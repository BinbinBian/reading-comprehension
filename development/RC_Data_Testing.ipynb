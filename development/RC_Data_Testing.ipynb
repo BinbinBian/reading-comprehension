{
 "cells": [
  {
   "cell_type": "code",
   "execution_count": 47,
   "metadata": {
    "collapsed": false
   },
   "outputs": [],
   "source": [
    "import data_utils\n",
    "from imp import reload\n",
    "reload(data_utils)\n",
    "import os"
   ]
  },
  {
   "cell_type": "code",
   "execution_count": 15,
   "metadata": {
    "collapsed": false
   },
   "outputs": [],
   "source": [
    "data_path = '/Users/kellyzhang/Documents/ReadingComprehension/DeepMindDataset/cnn/questions'\n",
    "train_path = os.path.join(data_path, \"training\")\n",
    "validation_path = os.path.join(data_path, \"validation\")\n",
    "test_path = os.path.join(data_path, \"test\")"
   ]
  },
  {
   "cell_type": "code",
   "execution_count": 17,
   "metadata": {
    "collapsed": false
   },
   "outputs": [],
   "source": [
    "a = data_utils.make_data_file(test_path, os.path.join(data_path, \"test.txt\"))"
   ]
  },
  {
   "cell_type": "code",
   "execution_count": 58,
   "metadata": {
    "collapsed": false
   },
   "outputs": [
    {
     "name": "stdout",
     "output_type": "stream",
     "text": [
      "#Examples: 10000\n"
     ]
    }
   ],
   "source": [
    "d, q, a = data_utils.load_data(os.path.join(data_path, \"train.txt\"), max_examples=10000)"
   ]
  },
  {
   "cell_type": "code",
   "execution_count": 59,
   "metadata": {
    "collapsed": false
   },
   "outputs": [],
   "source": [
    "vocab = data_utils.build_vocab(d+q, pickle_path=data_path)"
   ]
  },
  {
   "cell_type": "code",
   "execution_count": 60,
   "metadata": {
    "collapsed": false
   },
   "outputs": [
    {
     "data": {
      "text/plain": [
       "50000"
      ]
     },
     "execution_count": 60,
     "metadata": {},
     "output_type": "execute_result"
    }
   ],
   "source": [
    "len(vocab)"
   ]
  },
  {
   "cell_type": "code",
   "execution_count": 31,
   "metadata": {
    "collapsed": false
   },
   "outputs": [],
   "source": [
    "entity_markers = list(set([w for w in vocab.keys() if w.startswith('@entity')]+a))\n",
    "entity_markers = ['<unk_entity>'] + entity_markers\n",
    "entity_dict = {w: index for (index, w) in enumerate(entity_markers)}\n",
    "num_labels = len(entity_dict)"
   ]
  },
  {
   "cell_type": "code",
   "execution_count": 37,
   "metadata": {
    "collapsed": false
   },
   "outputs": [
    {
     "name": "stdout",
     "output_type": "stream",
     "text": [
      "Vectorization: processed 0 / 100\n"
     ]
    }
   ],
   "source": [
    "di, qi, ai, ebool = data_utils.vectorize_data(d, q, a, vocab, entity_dict)"
   ]
  },
  {
   "cell_type": "code",
   "execution_count": 49,
   "metadata": {
    "collapsed": true
   },
   "outputs": [],
   "source": [
    "batches = data_utils.batch_iter(list(zip(di, qi, ai, ebool)), num_epochs=1)"
   ]
  },
  {
   "cell_type": "code",
   "execution_count": 50,
   "metadata": {
    "collapsed": false
   },
   "outputs": [
    {
     "name": "stdout",
     "output_type": "stream",
     "text": [
      "(47, 59, 3, 78, 54, 16, 78, 34, 59, 54, 72, 72, 54, 78, 34, 72, 78, 72, 78, 34, 78, 8, 37, 59, 78, 47, 19, 37, 72, 47, 21, 37)\n",
      "(72, 26, 24, 25, 47, 47, 34, 78, 54, 34, 72, 8, 54, 47, 78, 78, 25, 54, 78, 37, 72, 19, 72, 72, 19, 18, 69, 54, 47, 47, 54, 54)\n",
      "(78, 47, 72, 68, 72, 78, 68, 72, 54, 72, 34, 8, 68, 54, 54, 46, 45, 72, 34, 54, 47, 54, 35, 78, 54, 25, 6, 54, 19, 34, 76, 46)\n",
      "(34, 68, 69, 78)\n"
     ]
    }
   ],
   "source": [
    "for batch in batches:\n",
    "    d_batch, q_batch, a_batch, e_batch = zip(*batch)\n",
    "    print(a_batch)"
   ]
  },
  {
   "cell_type": "code",
   "execution_count": null,
   "metadata": {
    "collapsed": true
   },
   "outputs": [],
   "source": []
  }
 ],
 "metadata": {
  "kernelspec": {
   "display_name": "Python 3",
   "language": "python",
   "name": "python3"
  },
  "language_info": {
   "codemirror_mode": {
    "name": "ipython",
    "version": 3
   },
   "file_extension": ".py",
   "mimetype": "text/x-python",
   "name": "python",
   "nbconvert_exporter": "python",
   "pygments_lexer": "ipython3",
   "version": "3.5.2"
  }
 },
 "nbformat": 4,
 "nbformat_minor": 1
}
